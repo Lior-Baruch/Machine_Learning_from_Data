{
 "cells": [
  {
   "cell_type": "markdown",
   "metadata": {
    "nbgrader": {
     "grade": false,
     "grade_id": "cell-6bd0516e7cb654f5",
     "locked": true,
     "schema_version": 1,
     "solution": false
    }
   },
   "source": [
    "# Exercise 2: Decision Trees\n",
    "\n",
    "In this assignment you will implement a Decision Tree algorithm as learned in class.\n",
    "\n",
    "## Read the following instructions carefully:\n",
    "\n",
    "1. This jupyter notebook contains all the step by step instructions needed for this exercise.\n",
    "2. Write **efficient vectorized** code whenever possible. Some calculations in this exercise take several minutes when implemented efficiently, and might take much longer otherwise. Unnecessary loops will result in point deduction.\n",
    "3. You are responsible for the correctness of your code and should add as many tests as you see fit. Tests will not be graded nor checked.\n",
    "4. Write your functions in this notebook only. **Do not create Python modules and import them**.\n",
    "5. You are allowed to use functions and methods from the [Python Standard Library](https://docs.python.org/3/library/) and [numpy](https://www.numpy.org/devdocs/reference/) only. **Do not import anything else.**\n",
    "6. Your code must run without errors. During the environment setup, you were given a specific version of `numpy` to install (1.15.4). Changes of the configuration we provided are at your own risk. Any code that cannot run will not be graded.\n",
    "7. Write your own code. Cheating will not be tolerated.\n",
    "8. Submission includes this notebook only with the exercise number and your ID as the filename. For example: `hw1_123456789_987654321.ipynb` if you submitted in pairs and `hw1_123456789.ipynb` if you submitted the exercise alone.\n",
    "9. Answers to qualitative questions should be written in **markdown** cells (with $\\LaTeX$ support). Answers that will be written in commented code blocks will not be checked.\n",
    "\n",
    "## In this exercise you will perform the following:\n",
    "1. Practice OOP in python.\n",
    "2. Implement two impurity measures: Gini and Entropy.\n",
    "3. Construct a decision tree algorithm.\n",
    "4. Prune the tree to achieve better results.\n",
    "5. Visualize your results."
   ]
  },
  {
   "cell_type": "markdown",
   "metadata": {},
   "source": [
    "# I have read and understood the instructions: *** 205892383, 327156998 ***"
   ]
  },
  {
   "cell_type": "code",
   "execution_count": 29,
   "metadata": {
    "nbgrader": {
     "grade": false,
     "grade_id": "cell-ed9fe7b1026e33cb",
     "locked": true,
     "schema_version": 1,
     "solution": false
    }
   },
   "outputs": [
    {
     "name": "stdout",
     "output_type": "stream",
     "text": [
      "The autoreload extension is already loaded. To reload it, use:\n",
      "  %reload_ext autoreload\n"
     ]
    }
   ],
   "source": [
    "import numpy as np\n",
    "import pandas as pd\n",
    "import matplotlib.pyplot as plt\n",
    "\n",
    "# make matplotlib figures appear inline in the notebook\n",
    "%matplotlib inline\n",
    "plt.rcParams['figure.figsize'] = (10.0, 8.0) # set default size of plots\n",
    "plt.rcParams['image.interpolation'] = 'nearest'\n",
    "plt.rcParams['image.cmap'] = 'gray'\n",
    "\n",
    "# Make the notebook automatically reload external python modules\n",
    "%load_ext autoreload\n",
    "%autoreload 2\n",
    "# Ignore warnings\n",
    "import warnings\n",
    "warnings.filterwarnings('ignore')"
   ]
  },
  {
   "cell_type": "markdown",
   "metadata": {
    "nbgrader": {
     "grade": false,
     "grade_id": "cell-c6ac605270c2b091",
     "locked": true,
     "schema_version": 1,
     "solution": false
    }
   },
   "source": [
    "## Warmup - OOP in python\n",
    "\n",
    "Our desicion tree will be implemented using a dedicated python class. Python classes are very similar to classes in Java.\n",
    "\n",
    "\n",
    "You can use the following [site](https://jeffknupp.com/blog/2014/06/18/improve-your-python-python-classes-and-object-oriented-programming/) to learn about classes in python."
   ]
  },
  {
   "cell_type": "code",
   "execution_count": 30,
   "metadata": {},
   "outputs": [],
   "source": [
    "class Node(object):\n",
    "    def __init__(self, data):\n",
    "        self.data = data\n",
    "        self.children = []\n",
    "\n",
    "    def add_child(self, node):\n",
    "        self.children.append(node)"
   ]
  },
  {
   "cell_type": "code",
   "execution_count": 31,
   "metadata": {},
   "outputs": [
    {
     "data": {
      "text/plain": "[<__main__.Node at 0x15ed395aec0>, <__main__.Node at 0x15ed395a440>]"
     },
     "execution_count": 31,
     "metadata": {},
     "output_type": "execute_result"
    }
   ],
   "source": [
    "n = Node(5)\n",
    "p = Node(6)\n",
    "q = Node(7)\n",
    "n.add_child(p)\n",
    "n.add_child(q)\n",
    "n.children"
   ]
  },
  {
   "cell_type": "markdown",
   "metadata": {
    "nbgrader": {
     "grade": false,
     "grade_id": "cell-2f1ceb251c649b62",
     "locked": true,
     "schema_version": 1,
     "solution": false
    }
   },
   "source": [
    "## Data preprocessing\n",
    "\n",
    "For the following exercise, we will use a dataset containing mushroom data `agaricus-lepiota.csv`. \n",
    "\n",
    "This data set includes descriptions of hypothetical samples corresponding to 23 species of gilled mushrooms in the Agaricus and Lepiota Family. Each species is identified as definitely edible, definitely poisonous, or of unknown edibility and not recommended. This latter class was combined with the poisonous\n",
    "one (=there are only two classes **edible** and **poisonous**). \n",
    "    \n",
    "The dataset contains 8124 observations with 22 features:\n",
    "1. cap-shape: bell=b,conical=c,convex=x,flat=f,knobbed=k,sunken=s\n",
    "2. cap-surface: fibrous=f,grooves=g,scaly=y,smooth=s\n",
    "3. cap-color: brown=n,buff=b,cinnamon=c,gray=g,green=r,pink=p,purple=u,red=e,white=w,yellow=y\n",
    "4. bruises: bruises=t,no=f\n",
    "5. odor: almond=a,anise=l,creosote=c,fishy=y,foul=f, musty=m,none=n,pungent=p,spicy=s\n",
    "6. gill-attachment: attached=a,descending=d,free=f,notched=n\n",
    "7. gill-spacing: close=c,crowded=w,distant=d\n",
    "8. gill-size: broad=b,narrow=n\n",
    "9. gill-color: black=k,brown=n,buff=b,chocolate=h,gray=g,green=r,orange=o,pink=p,purple=u,red=e,white=w,yellow=y\n",
    "10. stalk-shape: enlarging=e,tapering=t\n",
    "11. stalk-root: bulbous=b,club=c,cup=u,equal=e,rhizomorphs=z,rooted=r\n",
    "12. stalk-surface-above-ring: fibrous=f,scaly=y,silky=k,smooth=s\n",
    "13. stalk-surface-below-ring: fibrous=f,scaly=y,silky=k,smooth=s\n",
    "14. stalk-color-above-ring: brown=n,buff=b,cinnamon=c,gray=g,orange=o,pink=p,red=e,white=w,yellow=y\n",
    "15. stalk-color-below-ring: brown=n,buff=b,cinnamon=c,gray=g,orange=o,pink=p,red=e,white=w,yellow=y\n",
    "16. veil-type: partial=p,universal=u\n",
    "17. veil-color: brown=n,orange=o,white=w,yellow=y\n",
    "18. ring-number: none=n,one=o,two=t\n",
    "19. ring-type: cobwebby=c,evanescent=e,flaring=f,large=l,none=n,pendant=p,sheathing=s,zone=z\n",
    "20. spore-print-color: black=k,brown=n,buff=b,chocolate=h,green=r,orange=o,purple=u,white=w,yellow=y\n",
    "21. population: abundant=a,clustered=c,numerous=n,scattered=s,several=v,solitary=y\n",
    "22. habitat: grasses=g,leaves=l,meadows=m,paths=p,urban=u,waste=w,woods=d\n",
    "\n",
    "First, we will read and explore the data using pandas and the `.read_csv` method. Pandas is an open source library providing high-performance, easy-to-use data structures and data analysis tools for the Python programming language."
   ]
  },
  {
   "cell_type": "code",
   "execution_count": 32,
   "metadata": {
    "nbgrader": {
     "grade": false,
     "grade_id": "cell-d79cb4542926ad3f",
     "locked": true,
     "schema_version": 1,
     "solution": false
    }
   },
   "outputs": [],
   "source": [
    "# load dataset\n",
    "data = pd.read_csv('Decision_Trees/agaricus-lepiota.csv')"
   ]
  },
  {
   "cell_type": "markdown",
   "metadata": {},
   "source": [
    "One of the advantages of the Decision Tree algorithm is that almost no preprocessing is required. However, finding missing values is always required."
   ]
  },
  {
   "cell_type": "code",
   "execution_count": 33,
   "metadata": {},
   "outputs": [],
   "source": [
    "#############################################################################\n",
    "# TODO: Find the column\\s with missing values and remove them from the data.#\n",
    "#############################################################################\n",
    "data = data.dropna(axis = 1)\n",
    "pass\n",
    "#############################################################################\n",
    "#                             END OF YOUR CODE                              #\n",
    "#############################################################################"
   ]
  },
  {
   "cell_type": "markdown",
   "metadata": {},
   "source": [
    "We will split the dataset to `Training` and `Test` sets"
   ]
  },
  {
   "cell_type": "code",
   "execution_count": 34,
   "metadata": {},
   "outputs": [
    {
     "name": "stdout",
     "output_type": "stream",
     "text": [
      "Training dataset shape:  (6093, 22)\n",
      "Testing dataset shape:  (2031, 22)\n"
     ]
    }
   ],
   "source": [
    "from sklearn.model_selection import train_test_split\n",
    "# Making sure the last column will hold the labels\n",
    "X, y = data.drop('class', axis=1), data['class']\n",
    "X = np.column_stack([X,y])\n",
    "# split dataset using random_state to get the same split each time\n",
    "X_train, X_test = train_test_split(X, random_state=99)\n",
    "\n",
    "print(\"Training dataset shape: \", X_train.shape)\n",
    "print(\"Testing dataset shape: \", X_test.shape)"
   ]
  },
  {
   "cell_type": "code",
   "execution_count": 35,
   "metadata": {},
   "outputs": [
    {
     "data": {
      "text/plain": "(8124,)"
     },
     "execution_count": 35,
     "metadata": {},
     "output_type": "execute_result"
    }
   ],
   "source": [
    "y.shape"
   ]
  },
  {
   "cell_type": "markdown",
   "metadata": {
    "nbgrader": {
     "grade": false,
     "grade_id": "cell-fd7b0191f3f1e897",
     "locked": true,
     "schema_version": 1,
     "solution": false
    }
   },
   "source": [
    "## Impurity Measures\n",
    "\n",
    "(5 points each - 10 points total)\n",
    "\n",
    "Impurity is a measure of how often a randomly chosen element from the set would be incorrectly labeled if it was randomly labeled according to the distribution of labels in the subset. Implement the functions `calc_gini` and `calc_entropy`. You are encouraged to test your implementation."
   ]
  },
  {
   "cell_type": "code",
   "execution_count": 36,
   "metadata": {},
   "outputs": [],
   "source": [
    "def calc_gini(data):\n",
    "    \"\"\"\n",
    "    Calculate gini impurity measure of a dataset.\n",
    " \n",
    "    Input:\n",
    "    - data: any dataset where the last column holds the labels.\n",
    " \n",
    "    Returns the gini impurity.    \n",
    "    \"\"\"\n",
    "    gini = 0.0\n",
    "    ###########################################################################\n",
    "    # TODO: Implement the function.                                           #\n",
    "    ###########################################################################\n",
    "    s = data.shape[0];\n",
    "    if(s == 0):\n",
    "        return -1;\n",
    "    labels = data[:, data.shape[1] - 1];\n",
    "    values, count = np.unique(labels, return_counts = True);\n",
    "    gini = 1 - (count.dot(count) / s**2)\n",
    "    pass\n",
    "    ###########################################################################\n",
    "    #                             END OF YOUR CODE                            #\n",
    "    ###########################################################################\n",
    "    return gini"
   ]
  },
  {
   "cell_type": "code",
   "execution_count": 37,
   "metadata": {},
   "outputs": [],
   "source": [
    "def calc_entropy(data):\n",
    "    \"\"\"\n",
    "    Calculate the entropy of a dataset.\n",
    "\n",
    "    Input:\n",
    "    - data: any dataset where the last column holds the labels.\n",
    "\n",
    "    Returns the entropy of the dataset.    \n",
    "    \"\"\"\n",
    "    entropy = 0.0\n",
    "    ###########################################################################\n",
    "    # TODO: Implement the function.                                           #\n",
    "    ###########################################################################\n",
    "    s = data.shape[0];\n",
    "    if(s == 0):\n",
    "        return -1\n",
    "    labels = data[:, data.shape[1] - 1];\n",
    "    values, count = np.unique(labels, return_counts = True);\n",
    "    entropy = (count / s).dot(np.log2(count / s))\n",
    "    entropy = -entropy;\n",
    "    pass\n",
    "    ###########################################################################\n",
    "    #                             END OF YOUR CODE                            #\n",
    "    ###########################################################################\n",
    "    return entropy"
   ]
  },
  {
   "cell_type": "code",
   "execution_count": 38,
   "metadata": {
    "scrolled": true
   },
   "outputs": [
    {
     "data": {
      "text/plain": "(0.4995636322379775, 0.9993703627906085)"
     },
     "execution_count": 38,
     "metadata": {},
     "output_type": "execute_result"
    }
   ],
   "source": [
    "##### Your Tests Here #####\n",
    "calc_gini(X), calc_entropy(X)"
   ]
  },
  {
   "cell_type": "markdown",
   "metadata": {},
   "source": [
    "## Goodness of Split\n",
    "\n",
    "(10 Points)\n",
    "\n",
    "Given a feature the Goodnees of Split measures the reduction in the impurity if we split the data according to the feature.\n",
    "$$\n",
    "\\Delta\\varphi(S, A) = \\varphi(S) - \\sum_{v\\in Values(A)} \\frac{|S_v|}{|S|}\\varphi(S_v)\n",
    "$$\n",
    "\n",
    "In our implementation the goodness_of_split function will return either the Goodness of Split or the Gain Ratio as learned in class. You'll control the return value with the `gain_ratio` parameter. If this parameter will set to False (the default value) it will return the regular Goodness of Split. If it will set to True it will return the Gain Ratio.\n",
    "$$\n",
    "GainRatio(S,A)=\\frac{InformationGain(S,A)}{SplitInformation(S,A)}\n",
    "$$\n",
    "Where:\n",
    "$$\n",
    "InformationGain(S,A)=Goodness\\ of\\ Split\\ calculated\\ with\\ Entropy\\ as\\ the\\ Impurity\\ function \\\\\n",
    "SplitInformation(S,A)=- \\sum_{a\\in A} \\frac{|S_a|}{|S|}\\log\\frac{|S_a|}{|S|}\n",
    "$$\n",
    "NOTE: you can add more parameters to the function and you can also add more returning variables (The given parameters and the given returning variable should not be touch)."
   ]
  },
  {
   "cell_type": "code",
   "execution_count": 39,
   "metadata": {},
   "outputs": [],
   "source": [
    "def goodness_of_split(data, feature, impurity_func, gain_ratio=False):\n",
    "    \"\"\"\n",
    "    Calculate the goodness of split of a dataset given a feature and impurity function.\n",
    "\n",
    "    Input:\n",
    "    - data: any dataset where the last column holds the labels.\n",
    "    - feature: the feature index.\n",
    "    - impurity func: a function that calculates the impurity.\n",
    "    - gain_ratio: goodness of split or gain ratio flag.\n",
    "\n",
    "    Returns the goodness of split (or the Gain Ration).  \n",
    "    \"\"\"\n",
    "    ###########################################################################\n",
    "    # TODO: Implement the function.                                           #\n",
    "    ###########################################################################\n",
    "  \n",
    "\n",
    "    \n",
    "    impurity_measure = impurity_func(data);\n",
    "    s = data.shape[0];\n",
    "    if(s == 0):\n",
    "        return 0;\n",
    "    feature_colum = data[:, feature];\n",
    "    labels = data[:, data.shape[1] - 1];\n",
    "    unique_array, num_of_values = np.unique(feature_colum, return_counts = True);\n",
    "    array_dict = dict(zip(unique_array, num_of_values));\n",
    "    goodness = 0;\n",
    "    split_information = 0;\n",
    "    for key in array_dict:\n",
    "        data_with_value_key = data[data[:,feature] == key]\n",
    "        if(data_with_value_key.shape[0] == 0):\n",
    "            continue;\n",
    "        goodness += (array_dict[key]/s) * impurity_func(data_with_value_key);\n",
    "        split_information -= (data_with_value_key.shape[0] / s) * np.log2(data_with_value_key.shape[0] / s);\n",
    "    goodness = impurity_measure - goodness;\n",
    "    if(gain_ratio):\n",
    "        #splitInformation\n",
    "        goodness = goodness / split_information\n",
    "    pass\n",
    "    ###########################################################################\n",
    "    #                             END OF YOUR CODE                            #\n",
    "    ###########################################################################\n",
    "    return goodness    "
   ]
  },
  {
   "cell_type": "code",
   "execution_count": 40,
   "metadata": {},
   "outputs": [
    {
     "data": {
      "text/plain": "0.01075601683230588"
     },
     "execution_count": 40,
     "metadata": {},
     "output_type": "execute_result"
    }
   ],
   "source": [
    "goodness_of_split(X_train, 1, calc_entropy, gain_ratio=True)"
   ]
  },
  {
   "cell_type": "markdown",
   "metadata": {},
   "source": [
    "## Building a Decision Tree\n",
    "\n",
    "(30 points)\n",
    "\n",
    "Use a Python class to construct the decision tree. Your class should support the following functionality:\n",
    "\n",
    "1. Initiating a node for a decision tree. You will need to use several class methods and class attributes and you are free to use them as you see fit. We recommend that every node will hold the feature and value used for the split and its children.\n",
    "2. Your code should support both Gini and Entropy as impurity measures. \n",
    "3. The provided data includes categorical data. In this exercise, when splitting a node create the number of children needed according to the attribute unique values.\n",
    "\n",
    "Complete the class `DecisionNode`. The structure of this class is entirely up to you. \n",
    "\n",
    "Complete the function `build_tree`. This function should get the training dataset and the impurity as inputs, initiate a root for the decision tree and construct the tree according to the procedure you learned in class."
   ]
  },
  {
   "cell_type": "code",
   "execution_count": 41,
   "metadata": {},
   "outputs": [],
   "source": [
    "class DecisionNode:\n",
    "\n",
    "    # This class will hold everything you require to construct a decision tree.\n",
    "    # The structure of this class is up to you. However, you need to support basic \n",
    "    # functionality as described above. It is highly recommended that you \n",
    "    # first read and understand the entire exercise before diving into this class.\n",
    "    \n",
    "    def __init__(self, feature, value,predict):\n",
    "        self.feature = feature # column index of criteria being tested\n",
    "        self.value = value\n",
    "        self.children = []\n",
    "        self.predict =predict ;\n",
    "        \n",
    "    def add_child(self, node):\n",
    "        self.children.append(node)\n",
    "        \n",
    "           \n",
    "            \n",
    "    \n",
    "         "
   ]
  },
  {
   "cell_type": "code",
   "execution_count": 42,
   "metadata": {},
   "outputs": [],
   "source": [
    "def build_tree(data,impurity,gain_ratio=False, chi=1, max_depth=100,pvalue = 'root'):\n",
    "    \"\"\"\n",
    "    Build a tree using the given impurity measure and training dataset. \n",
    "    You are required to fully grow the tree until all leaves are pure. \n",
    "\n",
    "    Input:\n",
    "    - data: the training dataset.\n",
    "    - impurity: the chosen impurity measure. Notice that you can send a function\n",
    "                as an argument in python.\n",
    "    - gain_ratio: goodness of split or gain ratio flag\n",
    "\n",
    "    Output: the root node of the tree.\n",
    "    \"\"\"\n",
    "    root = None\n",
    "    ###########################################################################\n",
    "    # TODO: Implement the function.                                           #\n",
    "    ###########################################################################\n",
    "    if (max_depth < 0 or data.shape[1] == 0):\n",
    "        return root ;\n",
    "    best_split = 0;\n",
    "    indexof_best_feature = 0;\n",
    "    for i in range(data.shape[1]-1):\n",
    "        igoodness = goodness_of_split(data, i ,impurity, gain_ratio);\n",
    "        if(best_split < igoodness):\n",
    "            best_split = igoodness;\n",
    "            indexof_best_feature = i;\n",
    "            \n",
    "    pure = False;\n",
    "    unique_array, num_of_values_labales = np.unique(data[:,-1], return_counts = True);\n",
    "    child_dict = dict(zip(unique_array, num_of_values_labales));\n",
    "    root = DecisionNode(indexof_best_feature,pvalue,child_dict); \n",
    "    for i in child_dict :\n",
    "        if(child_dict[i]==np.sum(num_of_values_labales)):\n",
    "            pure = True;\n",
    "    \n",
    "    if(pure):\n",
    "        return root;\n",
    "    \n",
    "    unique_array, num_of_values = np.unique(data[:,indexof_best_feature], return_counts = True);\n",
    "    array_dict = dict(zip(unique_array, num_of_values));\n",
    "   \n",
    "    root = DecisionNode(indexof_best_feature,pvalue,child_dict);    \n",
    "    pval = 0;\n",
    "    child_list = []\n",
    "    for pvalue in array_dict:\n",
    "        data_with_value_key = data[data[:,indexof_best_feature]== pvalue, :];\n",
    "        child_data =np.delete(data_with_value_key,indexof_best_feature,1);\n",
    "        child = build_tree(child_data,impurity, gain_ratio, chi, max_depth-1,pvalue);\n",
    "        if (child):\n",
    "            child_list.append(child);\n",
    "    if (chi != 1):\n",
    "        values = np.unique(data[:, indexof_best_feature])\n",
    "        classes = np.unique(data[:,-1])\n",
    "        for v in values:\n",
    "            new_data = np.count_nonzero(data[:, indexof_best_feature] == v)\n",
    "            for i in range(len(classes)):\n",
    "                check = np.count_nonzero((data[:, indexof_best_feature] == v) & (data[:, -1] == classes[i]))\n",
    "                estimate = new_data * num_of_values_labales[i]/len(data)\n",
    "                pval += ((check-estimate)**2) / estimate\n",
    "                            \n",
    "    if (chi == 1 or ( len(root.predict) > 0 and pval > chi_table[len(root.predict) -1][chi])):\n",
    "        for child in child_list:\n",
    "            root.add_child(child)\n",
    "        \n",
    "    pass\n",
    "    ###########################################################################\n",
    "    #                             END OF YOUR CODE                            #\n",
    "    ###########################################################################\n",
    "    return root"
   ]
  },
  {
   "cell_type": "code",
   "execution_count": 43,
   "metadata": {},
   "outputs": [],
   "source": [
    "# python support passing a function as arguments to another function.\n",
    "tree_gini = build_tree(data=X_train, impurity=calc_gini) # gini and goodness of split\n",
    "tree_entropy = build_tree(data=X_train, impurity=calc_entropy) # entropy and goodness of split\n",
    "tree_entropy_gain_ratio = build_tree(data=X_train, impurity=calc_entropy, gain_ratio=True) # entropy and gain ratio"
   ]
  },
  {
   "cell_type": "markdown",
   "metadata": {},
   "source": [
    "## Tree evaluation\n",
    "\n",
    "(10 points) \n",
    "\n",
    "Complete the functions `predict` and `calc_accuracy`. "
   ]
  },
  {
   "cell_type": "code",
   "execution_count": 44,
   "metadata": {},
   "outputs": [],
   "source": [
    "def predict(node, instance):\n",
    "    \"\"\"\n",
    "    Predict a given instance using the decision tree\n",
    " \n",
    "    Input:\n",
    "    - root: the root of the decision tree.\n",
    "    - instance: an row vector from the dataset. Note that the last element \n",
    "                of this vector is the label of the instance.\n",
    " \n",
    "    Output: the prediction of the instance.\n",
    "    \"\"\"\n",
    "    pred = None\n",
    "    ###########################################################################\n",
    "    # TODO: Implement the function.                                           #\n",
    "    ###########################################################################\n",
    "    for child in node.children:\n",
    "        if instance[node.feature] == child.value:\n",
    "            return predict(child, np.delete(instance,node.feature))\n",
    "    pred = max(node.predict, key=node.predict.get)\n",
    "    pass\n",
    "    ###########################################################################\n",
    "    #                             END OF YOUR CODE                            #\n",
    "    ###########################################################################\n",
    "    return pred"
   ]
  },
  {
   "cell_type": "code",
   "execution_count": 45,
   "metadata": {},
   "outputs": [],
   "source": [
    "def calc_accuracy(node, dataset):\n",
    "    \"\"\"\n",
    "    Predict a given dataset using the decision tree\n",
    " \n",
    "    Input:\n",
    "    - node: a node in the decision tree.\n",
    "    - dataset: the dataset on which the accuracy is evaluated\n",
    " \n",
    "    Output: the accuracy of the decision tree on the given dataset (%).\n",
    "    \"\"\"\n",
    "    accuracy = 0\n",
    "    ###########################################################################\n",
    "    # TODO: Implement the function.                                           #\n",
    "    ###########################################################################\n",
    "    count = 0;\n",
    "    for i in dataset :\n",
    "        if (i[-1]== predict(node,i)):\n",
    "            count += 1;\n",
    "            \n",
    "    accuracy= count / dataset.shape[0] * 100;          \n",
    "    \n",
    "    pass\n",
    "    ###########################################################################\n",
    "    #                             END OF YOUR CODE                            #\n",
    "    ###########################################################################\n",
    "    return accuracy "
   ]
  },
  {
   "cell_type": "markdown",
   "metadata": {},
   "source": [
    "After building the three trees using the training set, you should calculate the accuracy on the test set. For each tree print the training and test accuracy. Select the tree that gave you the best test accuracy. For the rest of the exercise, use that tree (when you asked to build another tree use the same impurity function and same gain_ratio flag). "
   ]
  },
  {
   "cell_type": "code",
   "execution_count": 46,
   "metadata": {
    "scrolled": true
   },
   "outputs": [
    {
     "name": "stdout",
     "output_type": "stream",
     "text": [
      "100.0\n",
      "77.15411127523387\n",
      "100.0\n",
      "77.30182176267849\n",
      "100.0\n",
      "78.53274249138356\n"
     ]
    }
   ],
   "source": [
    "#### Your code here ####\n",
    "print(calc_accuracy(tree_entropy, X_train))\n",
    "print(calc_accuracy(tree_entropy, X_test))\n",
    "print(calc_accuracy(tree_gini, X_train))\n",
    "print(calc_accuracy(tree_gini, X_test))\n",
    "print(calc_accuracy(tree_entropy_gain_ratio, X_train))\n",
    "print(calc_accuracy(tree_entropy_gain_ratio, X_test))"
   ]
  },
  {
   "cell_type": "markdown",
   "metadata": {},
   "source": [
    "## Depth pruning\n",
    "\n",
    "(15 points)\n",
    "\n",
    "Consider the following max_depth values: [1, 2, 3, 4, 5, 6, 7, 8, 9, 10]. For each value, construct a tree and prune it according to the max_depth value = don't let the tree to grow beyond this depth. Next, calculate the training and testing accuracy.<br>\n",
    "On a single plot, draw the training and testing accuracy as a function of the max_depth. Mark the best result on the graph with red circle."
   ]
  },
  {
   "cell_type": "code",
   "execution_count": 47,
   "metadata": {},
   "outputs": [
    {
     "data": {
      "text/plain": "<Figure size 1000x800 with 1 Axes>",
      "image/png": "[encoded data removed]"
     },
     "metadata": {},
     "output_type": "display_data"
    }
   ],
   "source": [
    "#### Your code here ####\n",
    "max_depths = [1, 2, 3, 4, 5, 6, 7, 8, 9, 10]\n",
    "test_accuracy = []\n",
    "train_accuracy = []\n",
    "for depth in max_depths:\n",
    "    root = build_tree(data=X_train, impurity=calc_entropy, gain_ratio=True, max_depth=depth) \n",
    "    train_accuracy.append(calc_accuracy(root, X_train))\n",
    "    test_accuracy.append(calc_accuracy(root, X_test))\n",
    "\n",
    "# Draw \n",
    "max_accuracy = max(test_accuracy)\n",
    "best_depth = max_depths[test_accuracy.index(max_accuracy)]\n",
    "plt.plot(best_depth, max_accuracy, 'o', color = 'r')\n",
    "plt.plot(max_depths, train_accuracy, label=\"Train\")\n",
    "plt.plot(max_depths, test_accuracy, label=\"Test\")\n",
    "plt.xlabel('Depth')\n",
    "plt.ylabel('Accuracy')\n",
    "plt.title('Accuracy of test vs train')\n",
    "plt.legend()\n",
    "plt.show()\n"
   ]
  },
  {
   "cell_type": "markdown",
   "metadata": {},
   "source": [
    "## Chi square pre-pruning\n",
    "\n",
    "(15 points)\n",
    "\n",
    "Consider the following p-value cut-off values: [1 (no pruning), 0.5, 0.25, 0.1, 0.05, 0.0001 (max pruning)]. For each value, construct a tree and prune it according to the cut-off value. Next, calculate the training and testing accuracy. <br>\n",
    "On a single plot, draw the training and testing accuracy as a function of the tuple (p-value, tree depth). Mark the best result on the graph with red circle."
   ]
  },
  {
   "cell_type": "code",
   "execution_count": 48,
   "metadata": {},
   "outputs": [],
   "source": [
    "### Chi square table values ###\n",
    "# The first key is the degree of freedom \n",
    "# The second key is the p-value cut-off\n",
    "# The values are the chi-statistic that you need to use in the pruning\n",
    "chi_table = {1: {0.5 : 0.45,\n",
    "                 0.25 : 1.32,\n",
    "                 0.1 : 2.71,\n",
    "                 0.05 : 3.84,\n",
    "                 0.0001 : 100000},\n",
    "             2: {0.5 : 1.39,\n",
    "                 0.25 : 2.77,\n",
    "                 0.1 : 4.60,\n",
    "                 0.05 : 5.99,\n",
    "                 0.0001 : 100000},\n",
    "             3: {0.5 : 2.37,\n",
    "                 0.25 : 4.11,\n",
    "                 0.1 : 6.25,\n",
    "                 0.05 : 7.82,\n",
    "                 0.0001 : 100000},\n",
    "             4: {0.5 : 3.36,\n",
    "                 0.25 : 5.38,\n",
    "                 0.1 : 7.78,\n",
    "                 0.05 : 9.49,\n",
    "                 0.0001 : 100000},\n",
    "             5: {0.5 : 4.35,\n",
    "                 0.25 : 6.63,\n",
    "                 0.1 : 9.24,\n",
    "                 0.05 : 11.07,\n",
    "                 0.0001 : 100000},\n",
    "             6: {0.5 : 5.35,\n",
    "                 0.25 : 7.84,\n",
    "                 0.1 : 10.64,\n",
    "                 0.05 : 12.59,\n",
    "                 0.0001 : 100000},\n",
    "             7: {0.5 : 6.35,\n",
    "                 0.25 : 9.04,\n",
    "                 0.1 : 12.01,\n",
    "                 0.05 : 14.07,\n",
    "                 0.0001 : 100000},\n",
    "             8: {0.5 : 7.34,\n",
    "                 0.25 : 10.22,\n",
    "                 0.1 : 13.36,\n",
    "                 0.05 : 15.51,\n",
    "                 0.0001 : 100000},\n",
    "             9: {0.5 : 8.34,\n",
    "                 0.25 : 11.39,\n",
    "                 0.1 : 14.68,\n",
    "                 0.05 : 16.92,\n",
    "                 0.0001 : 100000},\n",
    "             10: {0.5 : 9.34,\n",
    "                  0.25 : 12.55,\n",
    "                  0.1 : 15.99,\n",
    "                  0.05 : 18.31,\n",
    "                  0.0001 : 100000},\n",
    "             11: {0.5 : 10.34,\n",
    "                  0.25 : 13.7,\n",
    "                  0.1 : 17.27,\n",
    "                  0.05 : 19.68,\n",
    "                  0.0001 : 100000}}"
   ]
  },
  {
   "cell_type": "code",
   "execution_count": 51,
   "metadata": {
    "scrolled": true
   },
   "outputs": [
    {
     "data": {
      "text/plain": "<Figure size 1000x800 with 1 Axes>",
      "image/png": "[encoded data removed]"
     },
     "metadata": {},
     "output_type": "display_data"
    }
   ],
   "source": [
    "#### Your code here ####\n",
    "chi_values = [1, 0.5, 0.25, 0.1, 0.05, 0.0001]\n",
    "test_accuracy = []\n",
    "train_accuracy = []\n",
    "for current_chi in chi_values:\n",
    "    root = build_tree(data = X_train, impurity = calc_entropy, gain_ratio = True, chi = current_chi, max_depth = 100) \n",
    "    train_accuracy.append(calc_accuracy(root, X_train))\n",
    "    test_accuracy.append(calc_accuracy(root, X_test))\n",
    "\n",
    "# Draw\n",
    "max_accuracy = max(test_accuracy)\n",
    "best_chi = chi_values[test_accuracy.index(max_accuracy)]\n",
    "plt.plot(best_chi, max_accuracy, 'o', color = 'r')\n",
    "plt.plot(chi_values,train_accuracy,label='training')\n",
    "plt.plot(chi_values,test_accuracy,label='testing')\n",
    "plt.xlabel('max depth')\n",
    "plt.xscale('log')\n",
    "plt.ylabel('accuracy')\n",
    "plt.title('accuracy as a function of chi')\n",
    "plt.legend()\n",
    "plt.show()\n",
    "\n",
    "\n"
   ]
  },
  {
   "cell_type": "markdown",
   "metadata": {},
   "source": [
    "Build the best 2 trees:\n",
    "1. tree_max_depth - the best tree according to max_depth pruning\n",
    "1. tree_chi - the best tree according to chi square pruning"
   ]
  },
  {
   "cell_type": "code",
   "execution_count": 52,
   "metadata": {},
   "outputs": [],
   "source": [
    "#### Your code here ####\n",
    "tree_max_depth = build_tree(data = X_train, impurity = calc_entropy, gain_ratio = True, chi = 1, max_depth = best_depth)\n",
    "tree_chi = build_tree(data = X_train, impurity = calc_entropy, gain_ratio = True, chi = best_chi)"
   ]
  },
  {
   "cell_type": "markdown",
   "metadata": {},
   "source": [
    "## Number of Nodes\n",
    "\n",
    "(5 points) \n",
    "\n",
    "Of the two trees above we will choose the one with fewer nodes.\n",
    "\n",
    "Complete the function counts_nodes and print the number of nodes in each tree"
   ]
  },
  {
   "cell_type": "code",
   "execution_count": 53,
   "metadata": {},
   "outputs": [],
   "source": [
    "def count_nodes(node):\n",
    "    \"\"\"\n",
    "    Count the number of node in a given tree\n",
    " \n",
    "    Input:\n",
    "    - node: a node in the decision tree.\n",
    " \n",
    "    Output: the number of node in the tree.\n",
    "    \"\"\"\n",
    "    ###########################################################################\n",
    "    # TODO: Implement the function.                                           #\n",
    "    ###########################################################################\n",
    "    pass\n",
    "\n",
    "    number_of_nodes = 0\n",
    "    for child in node.children : \n",
    "        number_of_nodes += count_nodes(child) + 1;\n",
    "    return number_of_nodes    \n",
    "    ###########################################################################\n",
    "    #                             END OF YOUR CODE                            #\n",
    "    ###########################################################################\n",
    "    "
   ]
  },
  {
   "cell_type": "code",
   "execution_count": 54,
   "metadata": {},
   "outputs": [
    {
     "name": "stdout",
     "output_type": "stream",
     "text": [
      "tree_max_depth: 204\n",
      "tree_chi: 63\n"
     ]
    }
   ],
   "source": [
    "print(\"tree_max_depth:\",count_nodes(tree_max_depth))\n",
    "print(\"tree_chi:\", count_nodes(tree_chi))"
   ]
  },
  {
   "cell_type": "markdown",
   "metadata": {},
   "source": [
    "## Print the tree\n",
    "\n",
    "(5 points)\n",
    "\n",
    "Complete the function `print_tree` and execute it on your chosen tree. Your code should do print:\n",
    "```\n",
    "[ROOT, feature=X0],\n",
    "  [X0=a, feature=X2]\n",
    "    [X2=c, leaf]: [{1.0: 10}]\n",
    "    [X2=d, leaf]: [{0.0: 10}]\n",
    "  [X0=y, feature=X5], \n",
    "       [X5=a, leaf]: [{1.0: 5}]\n",
    "       [X5=s, leaf]: [{0.0: 10}]\n",
    "  [X0=e, leaf]: [{0.0: 25, 1.0: 50}]\n",
    "```\n",
    "In each brackets:\n",
    "* The first argument is the parent feature with the value that led to current node\n",
    "* The second argument is the selected feature of the current node\n",
    "* If the current node is a leaf, you need to print also the labels and their counts"
   ]
  },
  {
   "cell_type": "code",
   "execution_count": 55,
   "metadata": {},
   "outputs": [],
   "source": [
    "# you can change the function signeture\n",
    "def print_tree(node, depth=0, parent_feature='ROOT', feature_val='ROOT'):\n",
    "    '''\n",
    "    prints the tree according to the example above\n",
    "     \n",
    "    Input:\n",
    "    - node: a node in the decision tree\n",
    "\n",
    "    This function has no return value\n",
    "    '''\n",
    "\n",
    "    ###########################################################################\n",
    "    # TODO: Implement the function.                                           #\n",
    "    ###########################################################################\n",
    "    pass\n",
    "    num_of_children = len(node.children)\n",
    "    if num_of_children > 0:\n",
    "        print(\"    \" * depth + \"[\" + parent_feature +\"\" + feature_val + \", feature=X\" + str(node.feature) + \"]\")\n",
    "        for child in node.children:\n",
    "            print_tree(child, depth + 1, \"X\" + str(node.feature)+\"=\", str(child.value))\n",
    "        \n",
    "    if num_of_children < 1:\n",
    "        print(\"    \" * depth + \"[\" + parent_feature +\"\" + feature_val + \", leaf]:\", node.predict)\n",
    "    ###########################################################################\n",
    "    #                             END OF YOUR CODE                            #\n",
    "    ###########################################################################"
   ]
  },
  {
   "cell_type": "code",
   "execution_count": 56,
   "metadata": {},
   "outputs": [
    {
     "name": "stdout",
     "output_type": "stream",
     "text": [
      "[ROOT, feature=X4]\n",
      "    [X4=a, feature=X2]\n",
      "        [X2=n, feature=X6]\n",
      "            [X6=n, feature=X16]\n",
      "                [X16=s, leaf]: {'e': 4, 'p': 3}\n",
      "                [X16=y, leaf]: {'e': 8}\n",
      "            [X6=p, feature=X0]\n",
      "                [X0=f, leaf]: {'e': 2, 'p': 1}\n",
      "                [X0=x, leaf]: {'e': 7}\n",
      "            [X6=w, feature=X15]\n",
      "                [X15=k, leaf]: {'e': 5, 'p': 1}\n",
      "                [X15=n, leaf]: {'e': 7}\n",
      "        [X2=w, feature=X4]\n",
      "            [X4=c, feature=X5]\n",
      "                [X5=g, leaf]: {'e': 22, 'p': 1}\n",
      "                [X5=k, leaf]: {'e': 22, 'p': 4}\n",
      "                [X5=n, leaf]: {'e': 26, 'p': 1}\n",
      "                [X5=w, leaf]: {'e': 16, 'p': 1}\n",
      "            [X4=w, leaf]: {'e': 21}\n",
      "        [X2=y, feature=X4]\n",
      "            [X4=c, feature=X5]\n",
      "                [X5=g, leaf]: {'e': 24, 'p': 2}\n",
      "                [X5=k, leaf]: {'e': 22, 'p': 1}\n",
      "                [X5=n, leaf]: {'e': 28, 'p': 7}\n",
      "                [X5=p, leaf]: {'e': 14}\n",
      "                [X5=w, leaf]: {'e': 33, 'p': 5}\n",
      "            [X4=w, feature=X0]\n",
      "                [X0=f, leaf]: {'e': 7, 'p': 1}\n",
      "                [X0=x, leaf]: {'e': 5, 'p': 3}\n",
      "    [X4=c, feature=X5]\n",
      "        [X5=c, feature=X17]\n",
      "            [X17=s, feature=X1]\n",
      "                [X1=f, leaf]: {'e': 5, 'p': 13}\n",
      "                [X1=s, leaf]: {'e': 1, 'p': 14}\n",
      "            [X17=v, feature=X1]\n",
      "                [X1=f, leaf]: {'e': 1, 'p': 16}\n",
      "                [X1=s, leaf]: {'p': 20}\n",
      "        [X5=w, feature=X2]\n",
      "            [X2=g, leaf]: {'p': 25}\n",
      "            [X2=p, feature=X16]\n",
      "                [X16=s, leaf]: {'p': 12}\n",
      "                [X16=v, leaf]: {'e': 2, 'p': 12}\n",
      "            [X2=w, feature=X15]\n",
      "                [X15=k, leaf]: {'p': 14}\n",
      "                [X15=n, leaf]: {'e': 1, 'p': 11}\n",
      "    [X4=f, feature=X9]\n",
      "        [X9=f, feature=X2]\n",
      "            [X2=b, feature=X16]\n",
      "                [X16=s, leaf]: {'e': 6, 'p': 13}\n",
      "                [X16=v, leaf]: {'e': 2, 'p': 17}\n",
      "            [X2=g, feature=X0]\n",
      "                [X0=f, leaf]: {'e': 4, 'p': 14}\n",
      "                [X0=x, leaf]: {'e': 1, 'p': 12}\n",
      "            [X2=w, feature=X6]\n",
      "                [X6=h, leaf]: {'p': 14}\n",
      "                [X6=p, leaf]: {'e': 1, 'p': 8}\n",
      "                [X6=w, leaf]: {'p': 13}\n",
      "        [X9=k, feature=X9]\n",
      "            [X9=k, feature=X6]\n",
      "                [X6=b, leaf]: {'e': 112, 'p': 854}\n",
      "                [X6=n, leaf]: {'e': 6, 'p': 97}\n",
      "            [X9=s, feature=X1]\n",
      "                [X1=s, leaf]: {'e': 12, 'p': 43}\n",
      "                [X1=y, leaf]: {'e': 4, 'p': 43}\n",
      "        [X9=s, feature=X17]\n",
      "            [X17=s, feature=X0]\n",
      "                [X0=f, leaf]: {'e': 2, 'p': 26}\n",
      "                [X0=x, leaf]: {'p': 29}\n",
      "            [X17=v, feature=X9]\n",
      "                [X9=f, leaf]: {'e': 4, 'p': 24}\n",
      "                [X9=k, leaf]: {'e': 6, 'p': 107}\n",
      "                [X9=s, leaf]: {'e': 10, 'p': 124}\n",
      "    [X4=l, feature=X1]\n",
      "        [X1=f, feature=X0]\n",
      "            [X0=f, feature=X0]\n",
      "                [X0=w, leaf]: {'e': 4, 'p': 1}\n",
      "                [X0=y, leaf]: {'e': 5}\n",
      "            [X0=x, leaf]: {'e': 10}\n",
      "        [X1=s, feature=X1]\n",
      "            [X1=w, feature=X15]\n",
      "                [X15=k, leaf]: {'e': 18, 'p': 5}\n",
      "                [X15=n, leaf]: {'e': 27, 'p': 6}\n",
      "                [X15=u, leaf]: {'e': 5}\n",
      "            [X1=y, feature=X5]\n",
      "                [X5=g, leaf]: {'e': 11, 'p': 2}\n",
      "                [X5=k, leaf]: {'e': 7, 'p': 1}\n",
      "                [X5=n, leaf]: {'e': 12, 'p': 1}\n",
      "                [X5=p, leaf]: {'e': 3, 'p': 1}\n",
      "                [X5=w, leaf]: {'e': 11}\n",
      "        [X1=y, feature=X18]\n",
      "            [X18=g, feature=X1]\n",
      "                [X1=n, leaf]: {'e': 19, 'p': 2}\n",
      "                [X1=w, leaf]: {'e': 19, 'p': 3}\n",
      "                [X1=y, leaf]: {'e': 42, 'p': 2}\n",
      "            [X18=m, feature=X17]\n",
      "                [X17=n, leaf]: {'e': 25}\n",
      "                [X17=s, leaf]: {'e': 23, 'p': 1}\n",
      "            [X18=p, feature=X6]\n",
      "                [X6=n, leaf]: {'e': 5, 'p': 2}\n",
      "                [X6=p, leaf]: {'e': 13}\n",
      "                [X6=w, leaf]: {'e': 13}\n",
      "    [X4=m, feature=X0]\n",
      "        [X0=f, feature=X3]\n",
      "            [X3=a, leaf]: {'p': 5}\n",
      "            [X3=f, feature=X1]\n",
      "                [X1=c, leaf]: {'e': 1}\n",
      "                [X1=e, leaf]: {'p': 2}\n",
      "                [X1=n, leaf]: {'p': 1}\n",
      "        [X0=k, feature=X6]\n",
      "            [X6=w, feature=X1]\n",
      "                [X1=c, leaf]: {'p': 2}\n",
      "                [X1=e, leaf]: {'e': 1, 'p': 1}\n",
      "                [X1=n, leaf]: {'p': 1}\n",
      "            [X6=y, leaf]: {'p': 6}\n",
      "        [X0=x, leaf]: {'p': 7}\n",
      "    [X4=n, feature=X6]\n",
      "        [X6=b, feature=X16]\n",
      "            [X16=b, feature=X0]\n",
      "                [X0=b, leaf]: {'e': 10}\n",
      "                [X0=f, leaf]: {'e': 8}\n",
      "                [X0=k, leaf]: {'e': 6, 'p': 1}\n",
      "                [X0=x, leaf]: {'e': 10, 'p': 1}\n",
      "            [X16=k, feature=X9]\n",
      "                [X9=f, leaf]: {'e': 126, 'p': 19}\n",
      "                [X9=s, leaf]: {'e': 717, 'p': 74}\n",
      "            [X16=n, feature=X13]\n",
      "                [X13=n, leaf]: {'e': 14, 'p': 4}\n",
      "                [X13=o, leaf]: {'e': 18, 'p': 1}\n",
      "                [X13=w, leaf]: {'e': 850, 'p': 100}\n",
      "            [X16=o, feature=X16]\n",
      "                [X16=c, leaf]: {'e': 12, 'p': 4}\n",
      "                [X16=v, leaf]: {'e': 16}\n",
      "            [X16=r, feature=X6]\n",
      "                [X6=g, leaf]: {'e': 2, 'p': 16}\n",
      "                [X6=r, leaf]: {'e': 4, 'p': 15}\n",
      "                [X6=w, leaf]: {'p': 15}\n",
      "            [X16=w, feature=X11]\n",
      "                [X11=e, leaf]: {'e': 62, 'p': 9}\n",
      "                [X11=n, leaf]: {'e': 12, 'p': 2}\n",
      "                [X11=w, leaf]: {'e': 295, 'p': 22}\n",
      "            [X16=y, feature=X0]\n",
      "                [X0=b, leaf]: {'e': 6, 'p': 1}\n",
      "                [X0=f, leaf]: {'e': 12}\n",
      "                [X0=k, leaf]: {'e': 6, 'p': 2}\n",
      "                [X0=x, leaf]: {'e': 11}\n",
      "        [X6=n, feature=X3]\n",
      "            [X3=f, feature=X7]\n",
      "                [X7=f, leaf]: {'e': 17, 'p': 3}\n",
      "                [X7=k, leaf]: {'p': 25}\n",
      "                [X7=s, leaf]: {'e': 118, 'p': 15}\n",
      "                [X7=y, leaf]: {'p': 7}\n",
      "            [X3=t, leaf]: {'p': 8}\n",
      "    [X4=p, feature=X0]\n",
      "        [X0=f, feature=X16]\n",
      "            [X16=k, feature=X6]\n",
      "                [X6=k, leaf]: {'e': 2, 'p': 10}\n",
      "                [X6=n, leaf]: {'e': 2, 'p': 10}\n",
      "                [X6=p, leaf]: {'e': 1, 'p': 11}\n",
      "                [X6=w, leaf]: {'e': 1, 'p': 12}\n",
      "            [X16=n, feature=X6]\n",
      "                [X6=k, leaf]: {'p': 10}\n",
      "                [X6=n, leaf]: {'e': 1, 'p': 11}\n",
      "                [X6=p, leaf]: {'p': 13}\n",
      "                [X6=w, leaf]: {'p': 9}\n",
      "        [X0=x, feature=X0]\n",
      "            [X0=s, feature=X0]\n",
      "                [X0=n, leaf]: {'p': 23}\n",
      "                [X0=w, leaf]: {'e': 1, 'p': 21}\n",
      "            [X0=y, leaf]: {'p': 45}\n",
      "    [X4=s, feature=X12]\n",
      "        [X12=p, feature=X10]\n",
      "            [X10=k, feature=X17]\n",
      "                [X17=d, leaf]: {'e': 3, 'p': 31}\n",
      "                [X17=l, leaf]: {'e': 4, 'p': 30}\n",
      "                [X17=p, leaf]: {'e': 1, 'p': 35}\n",
      "            [X10=s, feature=X0]\n",
      "                [X0=f, leaf]: {'e': 3, 'p': 30}\n",
      "                [X0=k, leaf]: {'p': 30}\n",
      "                [X0=x, leaf]: {'e': 1, 'p': 34}\n",
      "        [X12=w, feature=X11]\n",
      "            [X11=p, feature=X10]\n",
      "                [X10=k, leaf]: {'e': 7, 'p': 42}\n",
      "                [X10=s, leaf]: {'e': 11, 'p': 46}\n",
      "            [X11=w, feature=X0]\n",
      "                [X0=f, leaf]: {'p': 38}\n",
      "                [X0=k, leaf]: {'e': 3, 'p': 30}\n",
      "                [X0=x, leaf]: {'e': 5, 'p': 34}\n",
      "    [X4=y, feature=X1]\n",
      "        [X1=s, feature=X1]\n",
      "            [X1=e, feature=X17]\n",
      "                [X17=d, leaf]: {'e': 2, 'p': 31}\n",
      "                [X17=l, leaf]: {'e': 5, 'p': 31}\n",
      "                [X17=p, leaf]: {'e': 5, 'p': 31}\n",
      "            [X1=n, feature=X9]\n",
      "                [X9=p, leaf]: {'e': 4, 'p': 49}\n",
      "                [X9=w, leaf]: {'e': 2, 'p': 52}\n",
      "        [X1=y, feature=X10]\n",
      "            [X10=p, feature=X0]\n",
      "                [X0=f, leaf]: {'e': 7, 'p': 30}\n",
      "                [X0=k, leaf]: {'e': 5, 'p': 27}\n",
      "                [X0=x, leaf]: {'p': 34}\n",
      "            [X10=w, feature=X0]\n",
      "                [X0=f, leaf]: {'e': 5, 'p': 36}\n",
      "                [X0=k, leaf]: {'e': 5, 'p': 32}\n",
      "                [X0=x, leaf]: {'e': 9, 'p': 29}\n"
     ]
    }
   ],
   "source": [
    "print_tree(tree_max_depth, feature_val=\"\")"
   ]
  }
 ],
 "metadata": {
  "celltoolbar": "Create Assignment",
  "kernelspec": {
   "display_name": "Python 3",
   "language": "python",
   "name": "python3"
  },
  "language_info": {
   "codemirror_mode": {
    "name": "ipython",
    "version": 3
   },
   "file_extension": ".py",
   "mimetype": "text/x-python",
   "name": "python",
   "nbconvert_exporter": "python",
   "pygments_lexer": "ipython3",
   "version": "3.7.6"
  }
 },
 "nbformat": 4,
 "nbformat_minor": 2
}
